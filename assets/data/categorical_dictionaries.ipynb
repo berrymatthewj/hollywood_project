{
 "cells": [
  {
   "cell_type": "code",
   "execution_count": 4,
   "metadata": {},
   "outputs": [
    {
     "name": "stdout",
     "output_type": "stream",
     "text": [
      "[0, 0, 0, 0, 0, 0, 0, 0, 0, 0, 0, 0, 0, 0, 0, 0, 0, 0, 0, 1]\n"
     ]
    }
   ],
   "source": [
    "genre_dict ={\"action\":[1,0,0,0,0,0,0,0,0,0,0,0,0,0,0,0,0,0,0,0],\n",
    "\"adventure\":[0,1,0,0,0,0,0,0,0,0,0,0,0,0,0,0,0,0,0,0],\n",
    "\"animation\":[0,0,1,0,0,0,0,0,0,0,0,0,0,0,0,0,0,0,0,0],\n",
    "\"biography\":[0,0,0,1,0,0,0,0,0,0,0,0,0,0,0,0,0,0,0,0],\n",
    "\"comedy\":[0,0,0,0,1,0,0,0,0,0,0,0,0,0,0,0,0,0,0,0],\n",
    "\"crime\":[0,0,0,0,0,1,0,0,0,0,0,0,0,0,0,0,0,0,0,0],\n",
    "\"drama\":[0,0,0,0,0,0,1,0,0,0,0,0,0,0,0,0,0,0,0,0],\n",
    "\"family\":[0,0,0,0,0,0,0,1,0,0,0,0,0,0,0,0,0,0,0,0],\n",
    "\"fantasy\":[0,0,0,0,0,0,0,0,1,0,0,0,0,0,0,0,0,0,0,0],\n",
    "\"history\":[0,0,0,0,0,0,0,0,0,1,0,0,0,0,0,0,0,0,0,0],\n",
    "\"horror\":[0,0,0,0,0,0,0,0,0,0,1,0,0,0,0,0,0,0,0,0],\n",
    "\"music\":[0,0,0,0,0,0,0,0,0,0,0,1,0,0,0,0,0,0,0,0],\n",
    "\"musical\":[0,0,0,0,0,0,0,0,0,0,0,0,1,0,0,0,0,0,0,0],\n",
    "\"mystery\":[0,0,0,0,0,0,0,0,0,0,0,0,0,1,0,0,0,0,0,0],\n",
    "\"romance\":[0,0,0,0,0,0,0,0,0,0,0,0,0,0,1,0,0,0,0,0],\n",
    "\"scifi\":[0,0,0,0,0,0,0,0,0,0,0,0,0,0,0,1,0,0,0,0],\n",
    "\"sport\":[0,0,0,0,0,0,0,0,0,0,0,0,0,0,0,0,1,0,0,0],\n",
    "\"thriller\":[0,0,0,0,0,0,0,0,0,0,0,0,0,0,0,0,0,1,0,0],\n",
    "\"war\":[0,0,0,0,0,0,0,0,0,0,0,0,0,0,0,0,0,0,1,0],\n",
    "\"western\":[0,0,0,0,0,0,0,0,0,0,0,0,0,0,0,0,0,0,0,1]}\n",
    "\n",
    "\n",
    "genre_key = \"western\"\n",
    "genre_value = genre_dict.get(genre_key, [0,0,0,0,0,0,1,0,0,0,0,0,0,0,0,0,0,0,0,0] )\n",
    "print(genre_value)\n",
    "\n",
    "\n"
   ]
  },
  {
   "cell_type": "code",
   "execution_count": 5,
   "metadata": {},
   "outputs": [
    {
     "name": "stdout",
     "output_type": "stream",
     "text": [
      "[0, 0, 0, 0, 0, 0, 0, 0, 0, 0, 1]\n"
     ]
    }
   ],
   "source": [
    "language_dict={\n",
    "\"arabic\":[1,0,0,0,0,0,0,0,0,0,0],\n",
    "\"chinese\":[0,1,0,0,0,0,0,0,0,0,0],\n",
    "\"english\":[0,0,1,0,0,0,0,0,0,0,0],\n",
    "\"french\":[0,0,0,1,0,0,0,0,0,0,0],\n",
    "\"german\":[0,0,0,0,1,0,0,0,0,0,0],\n",
    "\"italian\":[0,0,0,0,0,1,0,0,0,0,0],\n",
    "\"japanese\":[0,0,0,0,0,0,1,0,0,0,0],\n",
    "\"korean\":[0,0,0,0,0,0,0,1,0,0,0],\n",
    "\"other\":[0,0,0,0,0,0,0,0,1,0,0],\n",
    "\"russian\":[0,0,0,0,0,0,0,0,0,1,0],\n",
    "\"spanish\":[0,0,0,0,0,0,0,0,0,0,1]\n",
    "}\n",
    "\n",
    "language_key = \"spanish\"\n",
    "language_value = language_dict.get(language_key,[0,0,1,0,0,0,0,0,0,0,0])\n",
    "print(language_value)"
   ]
  },
  {
   "cell_type": "code",
   "execution_count": null,
   "metadata": {},
   "outputs": [],
   "source": []
  }
 ],
 "metadata": {
  "kernelspec": {
   "display_name": "Python 3",
   "language": "python",
   "name": "python3"
  },
  "language_info": {
   "codemirror_mode": {
    "name": "ipython",
    "version": 3
   },
   "file_extension": ".py",
   "mimetype": "text/x-python",
   "name": "python",
   "nbconvert_exporter": "python",
   "pygments_lexer": "ipython3",
   "version": "3.8.5"
  }
 },
 "nbformat": 4,
 "nbformat_minor": 4
}
